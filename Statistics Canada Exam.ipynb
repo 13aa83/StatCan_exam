{
 "cells": [
  {
   "cell_type": "markdown",
   "id": "d75623e3",
   "metadata": {},
   "source": [
    "# Statistics Canada Assignment: Machine Learning\n",
    "# Assignment 1"
   ]
  },
  {
   "cell_type": "code",
   "execution_count": 174,
   "id": "8ee2a3d6",
   "metadata": {},
   "outputs": [],
   "source": [
    "import numpy as np\n",
    "import pandas as pd\n",
    "import os\n",
    "from scipy.io import loadmat\n",
    "import glob\n",
    "import torch\n",
    "import torch.nn as nn\n",
    "import torchvision.models as models\n",
    "import torchvision.transforms as transforms\n",
    "from torch.autograd import Variable\n",
    "from PIL import Image\n",
    "from random import sample\n",
    "from sklearn.model_selection import train_test_split\n",
    "from sklearn.linear_model import SGDClassifier\n",
    "from sklearn.preprocessing import StandardScaler\n",
    "from sklearn.pipeline import make_pipeline\n",
    "from sklearn.metrics import accuracy_score\n",
    "import matplotlib.pyplot as plt\n",
    "from scipy.stats import entropy\n",
    "from scipy.special import entr\n",
    "from sklearn.calibration import CalibratedClassifierCV"
   ]
  },
  {
   "cell_type": "markdown",
   "id": "7bd64344",
   "metadata": {},
   "source": [
    "# Task 1 - Build a function that converts a labelled dataset into labelled and unlabelled subsets"
   ]
  },
  {
   "cell_type": "code",
   "execution_count": 29,
   "id": "7abfae9c",
   "metadata": {},
   "outputs": [],
   "source": [
    "def convertLabelled(dataset_labels, proportion):\n",
    "    \"\"\" converts a labelled dataset into labelled and unlabelled subsets.\n",
    "        dataset_labels is an integer list containing the labels of the dataset.\n",
    "        proportion is the proportion of the dataset that is desired to be unlabelled. It should be between [0,1]\n",
    "        This function outputs a dataframe with the original labels and and extra column that indicates whether to keep\n",
    "        or remove the label\n",
    "    \"\"\"\n",
    "    # A random tuple of (value,index) pair from the dataset_labels\n",
    "    index_value = sample(list(enumerate(dataset_labels)), round(len(dataset_labels)*proportion))\n",
    "    # Creating a dataframe with the original labels and a new column labelled. Labelled has two possible values,\n",
    "    # 1 indicates that the label is kept and 0 indicates that the label is removed\n",
    "    df_converted_labels = pd.DataFrame(np.array([df_annotated_images_clean['class_idx'], \n",
    "                                                 np.ones(len(df_annotated_images_clean['class_idx']))]).T,\n",
    "                                       columns = ['class_idx','labelled'])    \n",
    "    indexes = []\n",
    "    for idx, val in index_value:\n",
    "        indexes.append(idx)  \n",
    "    df_converted_labels.loc[indexes, 'labelled'] = 0\n",
    "    return df_converted_labels, indexes"
   ]
  },
  {
   "cell_type": "markdown",
   "id": "be34f943",
   "metadata": {},
   "source": [
    "# Task 2 - Data cleaning"
   ]
  },
  {
   "cell_type": "code",
   "execution_count": 4,
   "id": "ac6ddb80",
   "metadata": {},
   "outputs": [],
   "source": [
    "# A list to keep the removed images\n",
    "removed_img_list =[]\n",
    "# Images directory\n",
    "img_dir = r'C:\\Users\\yussu\\Desktop\\STATCAN_EXAM\\car_ims'\n",
    "# iterate over images in that directory and remove images that are not RGB\n",
    "for filename in os.listdir(img_dir):\n",
    "    filepath = os.path.join(img_dir, filename)\n",
    "    with Image.open(filepath) as im:\n",
    "        if im.mode != 'RGB':\n",
    "            im.close()\n",
    "            # Removing non RGB images\n",
    "            removed_img_list.append(filename) \n",
    "            os.remove(filepath) "
   ]
  },
  {
   "cell_type": "code",
   "execution_count": 5,
   "id": "3730db7b",
   "metadata": {},
   "outputs": [
    {
     "data": {
      "text/plain": [
       "['000050.jpg',\n",
       " '001053.jpg',\n",
       " '001225.jpg',\n",
       " '001257.jpg',\n",
       " '001265.jpg',\n",
       " '001269.jpg',\n",
       " '001270.jpg',\n",
       " '001287.jpg',\n",
       " '001301.jpg',\n",
       " '001302.jpg',\n",
       " '001310.jpg',\n",
       " '001311.jpg',\n",
       " '001312.jpg',\n",
       " '001319.jpg',\n",
       " '001327.jpg',\n",
       " '001334.jpg',\n",
       " '001366.jpg',\n",
       " '001369.jpg',\n",
       " '001390.jpg',\n",
       " '001403.jpg',\n",
       " '001412.jpg',\n",
       " '001458.jpg',\n",
       " '003338.jpg',\n",
       " '003543.jpg',\n",
       " '003712.jpg',\n",
       " '004819.jpg',\n",
       " '005031.jpg',\n",
       " '005537.jpg',\n",
       " '006398.jpg',\n",
       " '008015.jpg',\n",
       " '011672.jpg',\n",
       " '013394.jpg',\n",
       " '014690.jpg',\n",
       " '014761.jpg']"
      ]
     },
     "execution_count": 5,
     "metadata": {},
     "output_type": "execute_result"
    }
   ],
   "source": [
    "removed_img_list"
   ]
  },
  {
   "cell_type": "code",
   "execution_count": 6,
   "id": "1475696d",
   "metadata": {},
   "outputs": [],
   "source": [
    "# Loading cars_annos.mat file\n",
    "cars_annos = loadmat(r'C:\\Users\\yussu\\Desktop\\STATCAN_EXAM\\cars_annos.mat')\n",
    "# Creating annotations array\n",
    "annotations = np.transpose(cars_annos['annotations']) \n",
    "image_annotation = []\n",
    "# Extracting image name and class for each iamge from annotations array and appending image_annotation\n",
    "for annotation in annotations:\n",
    "    img_name = annotation[0][0][0].split('/')[1]\n",
    "    class_idx= annotation[0][5][0][0]\n",
    "    image_annotation.append((img_name,class_idx))\n",
    "# Storing image name and class in a df_annotated_images dataframe\n",
    "df_annotated_images = pd.DataFrame(image_annotation, columns = ['image_name','class_idx'])\n",
    "# Removing the list of removed images during the cleaning task from df_annotated_images\n",
    "df_annotated_images_clean= df_annotated_images[~df_annotated_images.image_name.isin(removed_img_list)]\n",
    "df_annotated_images_clean.reset_index(inplace = True, drop=True)"
   ]
  },
  {
   "cell_type": "markdown",
   "id": "84d9059a",
   "metadata": {},
   "source": [
    "# Task 3 - Dataset representation"
   ]
  },
  {
   "cell_type": "code",
   "execution_count": 7,
   "id": "d72a3d1b",
   "metadata": {},
   "outputs": [
    {
     "name": "stderr",
     "output_type": "stream",
     "text": [
      "C:\\ProgramData\\Anaconda3\\lib\\site-packages\\torchvision\\models\\_utils.py:208: UserWarning: The parameter 'pretrained' is deprecated since 0.13 and may be removed in the future, please use 'weights' instead.\n",
      "  warnings.warn(\n",
      "C:\\ProgramData\\Anaconda3\\lib\\site-packages\\torchvision\\models\\_utils.py:223: UserWarning: Arguments other than a weight enum or `None` for 'weights' are deprecated since 0.13 and may be removed in the future. The current behavior is equivalent to passing `weights=ResNet18_Weights.IMAGENET1K_V1`. You can also use `weights=ResNet18_Weights.DEFAULT` to get the most up-to-date weights.\n",
      "  warnings.warn(msg)\n"
     ]
    }
   ],
   "source": [
    "# Loading the pretrained resnet18 model\n",
    "model = models.resnet18(pretrained=True)\n",
    "# Replacing the final layer in the resnet18 model with an identity layer\n",
    "model.fc = nn.Identity(512)\n",
    "# Setting resnet18 model to evaluation mode\n",
    "model.eval()\n",
    "# PyTorch transforms for resizing images\n",
    "scaler = transforms.Resize ((224, 224))\n",
    "# PyTorch transforms for normalizing images\n",
    "normalize = transforms.Normalize(mean=[0.485, 0.456, 0.406],\n",
    "                                 std=[0.229, 0.224, 0.225])\n",
    "# Creating ‘to_tensor’ transform to convert an image to a PyTorch tensor \n",
    "to_tensor = transforms.ToTensor()\n",
    "def get_embedding(image_name):\n",
    "        \"\"\" This function is a feature embedder. It takes an image as an input and returns its embeddings\n",
    "        \"\"\"\n",
    "    # Loading an image\n",
    "    image = Image.open(image_name)\n",
    "    # Creating a PyTorch Variable with the transformed image\n",
    "    transformed_image = Variable(normalize(to_tensor(scaler(image))).unsqueeze(0))\n",
    "    # Initializing the embedding vector. Size should match with model.fc layer size\n",
    "    my_embedding = torch.zeros(1,512)\n",
    "    # Creating a function to copy the output of a layer\n",
    "    def copy_data(m, i, o):\n",
    "        my_embedding.copy_(o.data)\n",
    "    # Attaching that function to a selected layer\n",
    "    h = model.fc.register_forward_hook(copy_data)\n",
    "    # Running the resnet18 model on the transformed image\n",
    "    model(transformed_image)\n",
    "    # Detaching our copy function from the layer\n",
    "    h.remove()\n",
    "    # Returning the embedding vector\n",
    "    return my_embedding"
   ]
  },
  {
   "cell_type": "code",
   "execution_count": 220,
   "id": "501c5e33",
   "metadata": {},
   "outputs": [],
   "source": [
    "dataset = {}\n",
    "image_index=0\n",
    "# Creating dataset dictionary \n",
    "for image in os.listdir(img_dir):\n",
    "    filepath = os.path.join(img_dir, image)\n",
    "    embedding = get_embedding(filepath)\n",
    "    dataset[image_index+1] = {'embedding':embedding,'class_idx':df_annotated_images_clean.loc[image_index,'class_idx'], 'labelled':1}\n",
    "    image_index+=1"
   ]
  },
  {
   "cell_type": "code",
   "execution_count": 21,
   "id": "91555064",
   "metadata": {},
   "outputs": [],
   "source": [
    "# Saving the dataset dictionary\n",
    "torch.save(dataset, r'C:\\Users\\yussu\\Desktop\\STATCAN_EXAM\\model.pt')"
   ]
  },
  {
   "cell_type": "markdown",
   "id": "3bcaede8",
   "metadata": {},
   "source": [
    "# Task 4 - Build a partially labelled dataset"
   ]
  },
  {
   "cell_type": "code",
   "execution_count": 219,
   "id": "145cbccd",
   "metadata": {},
   "outputs": [],
   "source": [
    "# Extracting the indices with no labels \n",
    "df_converted_labels, indexes = convertLabelled(df_annotated_images_clean['class_idx'], 0.4)\n",
    "# Changing 'labelled' key to 0 for the given indices\n",
    "for i in indexes:\n",
    "    dataset[i+1]['labelled'] = 0"
   ]
  },
  {
   "cell_type": "markdown",
   "id": "777fd1d7",
   "metadata": {},
   "source": [
    "# Task 5 - Create train/validation split function"
   ]
  },
  {
   "cell_type": "code",
   "execution_count": 41,
   "id": "417a1649",
   "metadata": {},
   "outputs": [],
   "source": [
    "def train_val_split(dataset_inputs, dataset_labels, training_proportion):\n",
    "    \"\"\" \n",
    "    This function creates a train/validation sets from a labelled data \n",
    "    \"\"\"\n",
    "    X_train, X_test, y_train, y_test = train_test_split(dataset_inputs, dataset_labels, test_size=1- training_proportion, random_state=42)\n",
    "    return X_train, y_train, X_test, y_test"
   ]
  },
  {
   "cell_type": "markdown",
   "id": "3efcefd0",
   "metadata": {},
   "source": [
    "# Task 6 - Create experiments to convince clients that more labelled data will improve model performance"
   ]
  },
  {
   "cell_type": "code",
   "execution_count": 159,
   "id": "e352d668",
   "metadata": {},
   "outputs": [],
   "source": [
    "# Extracting the labelled data subset\n",
    "labelled_dataset = {}\n",
    "dataset_inputs = []\n",
    "dataset_labels = []\n",
    "for key, value in dataset.items():\n",
    "    if dataset[key]['labelled'] == 1:\n",
    "        labelled_dataset[key] = value\n",
    "# Create lists for inputs and labels \n",
    "for key, value in labelled_dataset.items():\n",
    "    dataset_inputs.append(labelled_dataset[key]['embedding'])\n",
    "    dataset_labels.append(labelled_dataset[key]['class_idx'])\n",
    "# Converting tensors to numpy arrays\n",
    "dataset_inputs = np.array([t.numpy() for t in dataset_inputs])\n",
    "# dataset inputs reshaping \n",
    "nsamples, nx, ny = dataset_inputs.shape\n",
    "dataset_inputs = dataset_inputs.reshape((nsamples,nx*ny))\n",
    "# Create a variable train and test split and train the model on different training proportion values\n",
    "training_proportion = [0.3,0.4,0.5,0.6, 0.7, 0.75, 0.8, 0.85]\n",
    "# Scaling the input and using a pipeline\n",
    "clf = make_pipeline(StandardScaler(),\n",
    "                     SGDClassifier(loss = 'log', max_iter=2000, tol=1e-3))\n",
    "calibrated_clf = CalibratedClassifierCV(base_estimator=clf, method='sigmoid')  # set the SGD classifier as the base estimator\n",
    "\n",
    "accuracy = []\n",
    "for train_proportion in training_proportion:\n",
    "    X_train, y_train, X_test, y_test = train_val_split(dataset_inputs, dataset_labels, train_proportion)\n",
    "    clf.fit(X_train, y_train)\n",
    "    y_pred = clf.predict(X_test)\n",
    "    accuracy.append(accuracy_score(y_test, y_pred))"
   ]
  },
  {
   "cell_type": "code",
   "execution_count": 147,
   "id": "7645268e",
   "metadata": {},
   "outputs": [
    {
     "data": {
      "image/png": "[encoded data removed]",
      "text/plain": [
       "<Figure size 432x288 with 1 Axes>"
      ]
     },
     "metadata": {
      "needs_background": "light"
     },
     "output_type": "display_data"
    }
   ],
   "source": [
    "# Model performance assesment using accuracy as a performance metric\n",
    "plt.plot(training_proportion, accuracy)\n",
    "plt.xlabel('Training set proportion')\n",
    "plt.ylabel('Accuracy')\n",
    "plt.grid()\n",
    "plt.show()\n",
    "\n"
   ]
  },
  {
   "cell_type": "markdown",
   "id": "a2d6375b",
   "metadata": {},
   "source": [
    "As shown from the accuracy curve above, the larger the training set, the better the accuracy. Based on the accuracy performance metric, it is clear that having more labelled data for training will likely improve the accuracy of the prediciton model."
   ]
  },
  {
   "cell_type": "markdown",
   "id": "3bab7a37",
   "metadata": {},
   "source": [
    "# Task 7 - Active learning to select new instances to be labelled"
   ]
  },
  {
   "cell_type": "code",
   "execution_count": 216,
   "id": "5d35e1cd",
   "metadata": {},
   "outputs": [],
   "source": [
    "# Extracting the Unlabelled data subset\n",
    "unlabelled_dataset = {}\n",
    "unlabelled_dataset_inputs = []\n",
    "unlabelled_dataset_labels = []\n",
    "for key, value in dataset.items():\n",
    "    if dataset[key]['labelled'] == 0:\n",
    "        unlabelled_dataset[key] = value\n",
    "# Create lists for inputs and labels \n",
    "for key, value in unlabelled_dataset.items():\n",
    "    unlabelled_dataset_inputs.append(unlabelled_dataset[key]['embedding'])\n",
    "    unlabelled_dataset_labels.append(unlabelled_dataset[key]['class_idx'])\n",
    "# Converting tensors to numpy arrays\n",
    "unlabelled_dataset_inputs = np.array([t.numpy() for t in unlabelled_dataset_inputs])\n",
    "# dataset inputs reshaping \n",
    "nsamples, nx, ny = unlabelled_dataset_inputs.shape\n",
    "unlabelled_dataset_inputs = unlabelled_dataset_inputs.reshape((nsamples,nx*ny))\n",
    "# predicting probability scores for each class\n",
    "probabilities = clf.predict_proba(unlabelled_dataset_inputs)\n",
    "np.seterr(divide='ignore', invalid='ignore')\n",
    "# Calculation of entropy\n",
    "Entropy = entr(probabilities).sum(axis=1)\n",
    "\n",
    "# Calculating K instances required to be added to labelled dataset\n",
    "k = round(len(df_annotated_images_clean)*0.25)\n",
    "# K indicies with maximum entrpoy\n",
    "indicies_max_entropy = np.argpartition(Entropy, len(Entropy) - k)[-k:]\n",
    "added_dataset_inputs = unlabelled_dataset_inputs[indicies_max_entropy] \n",
    "added_dataset_labels = np.array(unlabelled_dataset_labels)[indicies_max_entropy.astype(int)]\n",
    "dataset_labels = np.array(dataset_labels)\n",
    "# Creating final inputs and labels\n",
    "final_dataset_inputs = np.concatenate((dataset_inputs, added_dataset_inputs), axis=0)\n",
    "final_dataset_labels = np.concatenate((dataset_labels, added_dataset_labels), axis=0)"
   ]
  },
  {
   "cell_type": "markdown",
   "id": "2ebf6160",
   "metadata": {},
   "source": [
    "# Task 8 - Final model training and evalution"
   ]
  },
  {
   "cell_type": "code",
   "execution_count": 217,
   "id": "a44bf555",
   "metadata": {},
   "outputs": [],
   "source": [
    "# Scaling the input and using a pipeline\n",
    "clf_extended_input = make_pipeline(StandardScaler(),\n",
    "                     SGDClassifier(loss = 'hinge', max_iter=2000, tol=1e-3))\n",
    "calibrated_clf_extended_input = CalibratedClassifierCV(base_estimator=clf, method='sigmoid')  # set the SGD classifier as the base estimator\n",
    "\n",
    "accuracy_extended_input = []\n",
    "for train_proportion in training_proportion:\n",
    "    X_train, y_train, X_test, y_test = train_val_split(final_dataset_inputs, final_dataset_labels, train_proportion)\n",
    "    clf.fit(X_train, y_train)\n",
    "    y_pred = clf.predict(X_test)\n",
    "    accuracy_extended_input.append(accuracy_score(y_test, y_pred))\n"
   ]
  },
  {
   "cell_type": "code",
   "execution_count": 218,
   "id": "52efe54f",
   "metadata": {},
   "outputs": [
    {
     "data": {
      "image/png": "[encoded data removed]",
      "text/plain": [
       "<Figure size 432x288 with 1 Axes>"
      ]
     },
     "metadata": {
      "needs_background": "light"
     },
     "output_type": "display_data"
    }
   ],
   "source": [
    "# Model performance assesment using accuracy as a performance metric with extended set of inputs/labels\n",
    "plt.plot(training_proportion, accuracy_extended_input)\n",
    "plt.xlabel('Training set proportion')\n",
    "plt.ylabel('Accuracy')\n",
    "plt.grid()\n",
    "plt.show()"
   ]
  },
  {
   "cell_type": "markdown",
   "id": "65efe784",
   "metadata": {},
   "source": [
    "As can be shown from the above accuracy figure, there is an improvement with the extended set of labelled data. This confirms the hypothesis that the decision for labelling more data was correct. There are few points that should be mentioned:\n",
    "\n",
    "1) In this implementation, accuracy performance metric was used. To have more confidence in the results, other performance metrics such as the analysis of the ROC curves could be used. \n",
    "\n",
    "2) Feature extraction could have been improved to enhance model performance. Also no hyper-parameter optimization was done.\n",
    "\n",
    "2) Some of the code could be more modular to avoid redundancy. If I had more time, I would create a function for training and model evaluation. "
   ]
  }
 ],
 "metadata": {
  "kernelspec": {
   "display_name": "Python 3",
   "language": "python",
   "name": "python3"
  },
  "language_info": {
   "codemirror_mode": {
    "name": "ipython",
    "version": 3
   },
   "file_extension": ".py",
   "mimetype": "text/x-python",
   "name": "python",
   "nbconvert_exporter": "python",
   "pygments_lexer": "ipython3",
   "version": "3.8.8"
  }
 },
 "nbformat": 4,
 "nbformat_minor": 5
}
